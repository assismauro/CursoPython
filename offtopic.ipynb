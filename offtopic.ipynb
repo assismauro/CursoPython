{
 "cells": [
  {
   "cell_type": "markdown",
   "metadata": {},
   "source": [
    "#### Instalação do suporte a R no Jupyter\n",
    "\n",
    "- [Instale o R](https://www.r-project.org/)\n",
    "- Abra o R no prompt de comando. Para isso abra uma janela do Anaconda Prompt e digite: **R [enter]**. Se não funcionar, ache o diretório onde o R está instalado, ex: **\"C:\\Program Files\\R\\R-3.6.3\\bin\\R.exe\"** [enter], com as aspas.\n",
    "- Em frente ao sinal \">\", digite: **install.packages(\"IRkernel\")** [enter]\n",
    "- Saia do R (comando **quit()** [enter])\n",
    "\n",
    "**Obs:** o parâmetro **--notebook-dir .** indica que é para o notebook abrir \"apontando\" para o diretório corrente (cujo nome é \"**.**\")"
   ]
  },
  {
   "cell_type": "markdown",
   "metadata": {},
   "source": [
    "#### Instalação do suporte geoJSON no Jupiter\n",
    "\n",
    "- [Instale o nodeJS](https://nodejs.org/dist/v12.16.1/node-v12.16.1-x64.msi)\n",
    "- Abra o Anaconda Prompt\n",
    "- Digite: **jupyter labextension install @jupyterlab/geojson-extension** [enter]\n",
    "Se der pau, tente de novo porque às vezes dá problema de download.\n",
    "- Interrompa o Jupyter, caso esteja rodando, e carregue novamente\n",
    "- Ao selecionar um arquivo geoJSON, você deverá ver agora o mapa. Se não rolar, clique com o botão direito sobre o nome do arquivo e selecione a opção **Open with\\geoJSON.**"
   ]
  },
  {
   "cell_type": "markdown",
   "metadata": {},
   "source": [
    "#### Formatos de arquivos texto normalmente usados em data minning\n",
    "\n",
    "[Formato CSV (com header):](../data/taxi+_zone_lookup.csv)\n",
    "\n",
    "    \"LocationID\",\"Borough\",\"Zone\",\"service_zone\"  \n",
    "    1,\"EWR\",\"Newark Airport\",\"EWR\"  \n",
    "    2,\"Queens\",\"Jamaica Bay\",\"Boro Zone\"  \n",
    "    3,\"Bronx\",\"Allerton/Pelham Gardens\",\"Boro Zone\"  \n",
    "    4,\"Manhattan\",\"Alphabet City\",\"Yellow Zone\"  \n",
    "    5,\"Staten Island\",\"Arden Heights\",\"Boro Zone\"  \n",
    "    6,\"Staten Island\",\"Arrochar/Fort Wadsworth\",\"Boro Zone\"\n",
    "\n",
    "[Formato JSON](../data/taxi+_zone_lookup.json)  \n",
    "\n",
    "    [  \n",
    "      {  \n",
    "        \"LocationID\": 1,  \n",
    "        \"Borough\": \"EWR\",  \n",
    "        \"Zone\": \"Newark Airport\",  \n",
    "        \"service_zone\": \"EWR\"  \n",
    "      },  \n",
    "      {  \n",
    "        \"LocationID\": 2,  \n",
    "        \"Borough\": \"Queens\",  \n",
    "        \"Zone\": \"Jamaica Bay\",  \n",
    "        \"service_zone\": \"Boro Zone\"  \n",
    "      },  \n",
    "        \"LocationID\": 6,  \n",
    "        \"Borough\": \"Staten Island\",  \n",
    "        \"Zone\": \"Arrochar/Fort Wadsworth\",  \n",
    "        \"service_zone\": \"Boro Zone\"  \n",
    "      }  \n",
    "    ]  \n",
    " \n",
    "[Formato geoJSON](../data/nyc_taxi_zones.geojson)\n"
   ]
  }
 ],
 "metadata": {
  "kernelspec": {
   "display_name": "Python 3",
   "language": "python",
   "name": "python3"
  },
  "language_info": {
   "codemirror_mode": {
    "name": "ipython",
    "version": 3
   },
   "file_extension": ".py",
   "mimetype": "text/x-python",
   "name": "python",
   "nbconvert_exporter": "python",
   "pygments_lexer": "ipython3",
   "version": "3.7.4"
  }
 },
 "nbformat": 4,
 "nbformat_minor": 4
}
