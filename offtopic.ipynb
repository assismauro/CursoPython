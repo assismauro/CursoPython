{
 "cells": [
  {
   "cell_type": "markdown",
   "metadata": {},
   "source": [
    "### Curso de Python do Maurão\n",
    "#### Instruções\n",
    "\n",
    "##### Para fazer esse curso, instale:\n",
    "a) [Anaconda](https://www.anaconda.com/distribution/)\n",
    "\n",
    "##### Para seguir oos exercícios do curso:\n",
    "\n",
    "b) Faça o download dos [dados usados no curso](https://drive.google.com/open?id=15f1t4fGEFA7ZK_N2S_4rse-T-IGg_xjV)\n\n",
    "c) Descompacte em um diretório **CursoPyrhon\\Data**\n\n",
    "d) Abra os arquivos [Aula1](https://github.com/assismauro/CursoPython/blob/master/aula1.ipynb), [Aula2](https://github.com/assismauro/CursoPython/blob/master/aula2.ipynb) e [Offtopic](https://github.com/assismauro/CursoPython/blob/master/offtopic.ipynb) e salve-os no diretório **CursoPython\\Aulas** com a extensão **.ypnb**.\n\n",
    "e) Abra o **Anaconda Prompt** (clique no ícone do Windows e pesquise o nome).\n\n",
    "f) Na janela aberta, digite **cd** <nome completo do diretório CursoPython que vc criou, ex: **c:\\CursoPython**> \\<enter>\n\n",
    "g) Digite  **jupyter lab --notebook-dir .** &lt enter &gt \n\n",
    "h) Vá lendo as instruções, quando achar uma célula de contém código, por exemplo:\n\n",
    "\n",
    "```python\n",
    "import pandas\n",
    "\n",
    "from pandas.plotting import scatter_matrix\n",
    "import matplotlib.pyplot as plt\n",
    "import seaborn as sns\n",
    "from sklearn import model_selection\n",
    "from sklearn.metrics import classification_report\n",
    "```\n",
    "Selecione-a e aperte \\<Shift>+\\<Enter>. O código será executado. Observe o sinal **[ ]** à esquerda da célula: durante a execução ele aparecerá como **[*]** e após ele aparecerá como **[n]**, onde **n** é o número da célula em ordem de execução.\n",
    "\n",
    "Espere terminar a execução de uma célula para executar a próxima. Sempre as execute em sequência.\n",
    "\n",
    "##### Outros links interessantes:\n",
    "\n",
    "- Editor de programas Python semelhante ao R Studio: [PyCharm](https://www.jetbrains.com/pycharm/download/download-thanks.html?platform=windows&code=PCC)\n",
    "- Editor de texto que comporta vários formatos: [Notepad++](https://notepad-plus-plus.org/repository/7.x/7.0/npp.7.Installer.x64.exe)\n",
    "- Esse site: [GitHub](http://github.com)\n",
    "- [Exibidor de geoJSON](http://geojson.io/)\n",
    "- [Dados viagens de taxi em NYC](https://www1.nyc.gov/site/tlc/about/tlc-trip-record-data.page)\n",
    "- [Exercício de \"raspagem de dados\"](https://github.com/juditecypreste/Scraper-Oscar/blob/master/Scraper%20Oscar.ipynb)"
   ]
  },
  {
   "cell_type": "markdown",
   "metadata": {},
   "source": [
    "#### Instalação do suporte a R no Jupyter\n",
    "\n",
    "- [Instale o R](https://www.r-project.org/)\n",
    "- Abra o R no prompt de comando. Para isso abra uma janela do Anaconda Prompt e digite: **R \\<enter>**. Se não funcionar, ache o diretório onde o R está instalado, ex: **\"C:\\Program Files\\R\\R-3.6.3\\bin\\R.exe\"** \\<enter>, com as aspas.\n",
    "- Em frente ao sinal \">\", digite: **install.packages(\"IRkernel\")** \\<enter>\n",
    "- Saia do R (comando **quit()** \\<enter>)\n",
    "\n",
    "**Obs:** o parâmetro **--notebook-dir .** indica que é para o notebook abrir \"apontando\" para o diretório corrente (cujo nome é \"**.**\")"
   ]
  },
  {
   "cell_type": "markdown",
   "metadata": {},
   "source": [
    "#### Instalação do suporte geoJSON no Jupiter\n",
    "\n",
    "- [Instale o nodeJS](https://nodejs.org/dist/v12.16.1/node-v12.16.1-x64.msi)\n",
    "- Abra o Anaconda Prompt\n",
    "- Digite: **jupyter labextension install @jupyterlab/geojson-extension** \\<enter>\n",
    "Se der pau, tente de novo porque às vezes dá problema de download.\n",
    "- Interrompa o Jupyter, caso esteja rodando, e carregue novamente\n",
    "- Ao selecionar um arquivo geoJSON, você deverá ver agora o mapa. Se não rolar, clique com o botão direito sobre o nome do arquivo e selecione a opção **Open with\\geoJSON.**"
   ]
  },
  {
   "cell_type": "markdown",
   "metadata": {},
   "source": [
    "#### Formatos de arquivos texto normalmente usados em data minning\n",
    "\n",
    "[Formato CSV (com header):](../data/taxi+_zone_lookup.csv)\n",
    "\n",
    "    \"LocationID\",\"Borough\",\"Zone\",\"service_zone\"  \n",
    "    1,\"EWR\",\"Newark Airport\",\"EWR\"  \n",
    "    2,\"Queens\",\"Jamaica Bay\",\"Boro Zone\"  \n",
    "    3,\"Bronx\",\"Allerton/Pelham Gardens\",\"Boro Zone\"  \n",
    "    4,\"Manhattan\",\"Alphabet City\",\"Yellow Zone\"  \n",
    "    5,\"Staten Island\",\"Arden Heights\",\"Boro Zone\"  \n",
    "    6,\"Staten Island\",\"Arrochar/Fort Wadsworth\",\"Boro Zone\"\n",
    "\n",
    "[Formato JSON](../data/taxi+_zone_lookup.json)  \n",
    "\n",
    "    [  \n",
    "      {  \n",
    "        \"LocationID\": 1,  \n",
    "        \"Borough\": \"EWR\",  \n",
    "        \"Zone\": \"Newark Airport\",  \n",
    "        \"service_zone\": \"EWR\"  \n",
    "      },  \n",
    "      {  \n",
    "        \"LocationID\": 2,  \n",
    "        \"Borough\": \"Queens\",  \n",
    "        \"Zone\": \"Jamaica Bay\",  \n",
    "        \"service_zone\": \"Boro Zone\"  \n",
    "      },  \n",
    "        \"LocationID\": 6,  \n",
    "        \"Borough\": \"Staten Island\",  \n",
    "        \"Zone\": \"Arrochar/Fort Wadsworth\",  \n",
    "        \"service_zone\": \"Boro Zone\"  \n",
    "      }  \n",
    "    ]  \n",
    " \n",
    "[Formato geoJSON](../data/nyc_taxi_zones.geojson)\n"
   ]
  }
 ],
 "metadata": {
  "kernelspec": {
   "display_name": "Python 3",
   "language": "python",
   "name": "python3"
  },
  "language_info": {
   "codemirror_mode": {
    "name": "ipython",
    "version": 3
   },
   "file_extension": ".py",
   "mimetype": "text/x-python",
   "name": "python",
   "nbconvert_exporter": "python",
   "pygments_lexer": "ipython3",
   "version": "3.7.4"
  }
 },
 "nbformat": 4,
 "nbformat_minor": 4
}
