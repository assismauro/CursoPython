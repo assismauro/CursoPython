{
  "nbformat": 4,
  "nbformat_minor": 0,
  "metadata": {
    "colab": {
      "name": "Azimuth.ipynb",
      "provenance": [],
      "collapsed_sections": [],
      "include_colab_link": true
    },
    "kernelspec": {
      "name": "python3",
      "display_name": "Python 3"
    }
  },
  "cells": [
    {
      "cell_type": "markdown",
      "metadata": {
        "id": "view-in-github",
        "colab_type": "text"
      },
      "source": [
        "<a href=\"https://colab.research.google.com/github/assismauro/CursoPython/blob/master/Azimuth.ipynb\" target=\"_parent\"><img src=\"https://colab.research.google.com/assets/colab-badge.svg\" alt=\"Open In Colab\"/></a>"
      ]
    },
    {
      "cell_type": "markdown",
      "metadata": {
        "id": "PP6iGgiN4Sq_",
        "colab_type": "text"
      },
      "source": [
        "# Azimuth app\n",
        "\n",
        "In the Nature, one of the most destructive events is fire.\n",
        "\n",
        "So, take care of preservation áreas or plantations implies in monitor fire events in a way to combat them as earlier as possible in a way to minimize losses. \n",
        "\n",
        "One way to monitor fire is to put high towers in the middle and around the area in a way to track fire events. People stay twenty four hours seven days a week at the top of the tower looking for fire flames or smoke. If two people in different towers see the same fire, it's possible to triangulate the azimuths (angle between North and the fire directions) and then to calculate the firing point.\n",
        "\n",
        "If you provide data about two towers (UTM coordinates) and the azimuth of the fire for each tower, this app calculates the UTM coordinates where the fire is, the distance between the towers and the flames or smoke, then plotting a diagram showing the results.\n",
        "\n",
        "One limitation of this \"app\" has is that the three points coordinates (both towers and fire) must be in the same UTM zone. This is a very small limitation.\n",
        "\n",
        "How to use:\n",
        "\n",
        "* Click in the Run button (right arrow) below.\n",
        "* Fill towers data.\n",
        "* Click Run again.\n",
        "* Click Calculate! button that appears below the form. \n",
        "\n",
        "Next step: put a map on the diagram.\n",
        "\n",
        "Enjoy!\n",
        "\n"
      ]
    },
    {
      "cell_type": "code",
      "metadata": {
        "id": "CeIo2Gem9lb2",
        "colab_type": "code",
        "cellView": "form",
        "colab": {}
      },
      "source": [
        "import ipywidgets as widgets\n",
        "from IPython.display import display\n",
        "from shapely.geometry import Point, LineString\n",
        "import numpy as np\n",
        "import matplotlib.pyplot as plt\n",
        "from matplotlib.pyplot import figure\n",
        "\n",
        "#@title {run: 'auto'} ## Dados de Entrada\n",
        "#@markdown ---\n",
        " \n",
        "#@markdown #### A Tower\n",
        "nomeA = \"Ponto Ferruginoso\" #@param {type:\"string\"}\n",
        "xA = 603484.00 #@param {type:\"number\"}\n",
        "yA = 7781714.00 #@param {type:\"number\"}\n",
        "azA = 222.00 #@param {type:\"number\"}\n",
        " \n",
        "#@markdown #### B Tower \n",
        "nomeB = \"Posto 39\" #@param {type:\"string\"}\n",
        "xB = 600593.00 #@param {type:\"number\"}\n",
        "yB = 7781310.00 #@param {type:\"number\"}\n",
        "azB = 170.00 #@param {type:\"number\"}\n",
        " \n",
        "button = widgets.Button(description=\"Calculate!\")\n",
        "output = widgets.Output()\n",
        " \n",
        "# trigonometry\n",
        "def cosdir(azim):\n",
        "    az = np.radians(azim)\n",
        "    cosa = np.sin(az)\n",
        "    cosb = np.cos(az)\n",
        "    return cosa,cosb\n",
        " \n",
        "def calcIntersection(xA,yA,azA,xB,yB,azB): \n",
        "    pointA = Point(xA,yA)\n",
        "    cosaA, cosbA  = cosdir(azA)\n",
        "    pointB = Point(xB,yB)\n",
        "    cosaB, cosbB  = cosdir(azB)\n",
        "    length = 10000\n",
        "    endlineA = Point(pointA.x+(length*cosaA), pointA.y+(length*cosbA))\n",
        "    endlineB = Point(pointB.x+(length*cosaB), pointB.y+(length*cosbB))\n",
        "    line1 = LineString([pointA,endlineA])\n",
        "    line2 = LineString([pointB,endlineB])\n",
        "    intersection = LineString([pointB,endlineB]).intersection(LineString([pointA,endlineA]))\n",
        "    return  ((pointA.distance(pointB),\n",
        "             pointA.distance(intersection),\n",
        "             pointB.distance(intersection)),\n",
        "            intersection)\n",
        " \n",
        "def plotResult(p1,p2,p3,nomeA,NomeB,distances):\n",
        "     figure(num=None, figsize=(12, 9), dpi=80, facecolor='w', edgecolor='k')\n",
        "     x_values = [p1[0], p3[0]]\n",
        "     y_values = [p1[1], p3[1]]\n",
        "     plt.plot(x_values, y_values,label='Visada '+nomeA)\n",
        "     x_values = [p2[0], p3[0]]\n",
        "     y_values = [p2[1], p3[1]]\n",
        "     plt.plot(x_values, y_values,label='Visada '+nomeB)\n",
        "     title = 'Intersection coordinates (X: {:10.2f}, Y: {:10.2f})\\nDistance between towers: {:10.2f}m\\n'.format(\n",
        "             p3[0],p3[1],distances[0])+\\\n",
        "             'Distance {0} to intersection: {1:10.2f}m\\n'.format(nomeA,distances[1])+\\\n",
        "             'Distance {0} to intersection: {1:10.2f}m\\n'.format(nomeB,distances[2])\n",
        "     plt.title(title)\n",
        "     plt.legend()\n",
        "     plt.show()\n",
        " \n",
        "def on_button_clicked(b):\n",
        "  with output:\n",
        "    distances, intersection = calcIntersection(xA,yA,azA,xB,yB,azB) \n",
        "    if not intersection.is_empty:\n",
        "      plotResult([xA,yA],[xB,yB],[intersection.x,intersection.y],nomeA,nomeB,distances)\n",
        "    else:\n",
        "      print(\"There's no crossing point!\")\n",
        "  \n",
        "button.on_click(on_button_clicked)\n",
        "display(button, output)"
      ],
      "execution_count": null,
      "outputs": []
    }
  ]
}